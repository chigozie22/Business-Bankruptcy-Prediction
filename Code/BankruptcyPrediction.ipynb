{
 "cells": [
  {
   "cell_type": "code",
   "execution_count": null,
   "id": "db59294f-9ed8-4177-acc6-d71e809bb53e",
   "metadata": {},
   "outputs": [],
   "source": []
  }
 ],
 "metadata": {
  "kernelspec": {
   "display_name": "",
   "name": ""
  },
  "language_info": {
   "name": ""
  }
 },
 "nbformat": 4,
 "nbformat_minor": 5
}
